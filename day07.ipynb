{
 "cells": [
  {
   "cell_type": "code",
   "execution_count": 1,
   "metadata": {},
   "outputs": [],
   "source": [
    "from itertools import product\n",
    "import numpy as np\n",
    "import tqdm\n",
    "\n",
    "def concat(a, b):\n",
    "    return int(str(a) + str(b))\n",
    "\n",
    "functions = [np.add, np.multiply, concat]\n",
    "\n",
    "def apply_funcs(nums, funcs):\n",
    "    N = nums[0]\n",
    "    for f, n in zip(funcs, nums[1:]):\n",
    "        N = f(N, n)\n",
    "    return N\n",
    "\n",
    "def test_row(row, functions):\n",
    "    target, nums = row\n",
    "    function_space = list(product(functions, repeat=len(nums) - 1))\n",
    "    for funcs in function_space:\n",
    "        N = apply_funcs(nums, funcs)\n",
    "        if N == target:\n",
    "            return target\n",
    "    else:\n",
    "        return 0\n",
    "    \n",
    "def part_both(input, functions):\n",
    "    data = [[int(line.split(':')[0]), list(map(int, line.split(':')[1].split()))] for line in input.strip().split('\\n')]\n",
    "    total = 0\n",
    "    for row in tqdm.tqdm(data):\n",
    "        total += test_row(row, functions)\n",
    "    print(total)\n",
    "\n",
    "def part1(input):\n",
    "    functions = [np.add, np.multiply]\n",
    "    part_both(input, functions[:2])\n",
    "\n",
    "def part2(input):\n",
    "    functions = [np.add, np.multiply, concat]\n",
    "    part_both(input, functions)    "
   ]
  },
  {
   "cell_type": "code",
   "execution_count": 2,
   "metadata": {},
   "outputs": [],
   "source": [
    "input = open('inputs/07.txt').read()"
   ]
  },
  {
   "cell_type": "code",
   "execution_count": 3,
   "metadata": {},
   "outputs": [
    {
     "name": "stderr",
     "output_type": "stream",
     "text": [
      "100%|██████████| 850/850 [00:01<00:00, 677.52it/s]"
     ]
    },
    {
     "name": "stdout",
     "output_type": "stream",
     "text": [
      "1545311493300\n"
     ]
    },
    {
     "name": "stderr",
     "output_type": "stream",
     "text": [
      "\n"
     ]
    }
   ],
   "source": [
    "part1(input)"
   ]
  },
  {
   "cell_type": "code",
   "execution_count": 4,
   "metadata": {},
   "outputs": [
    {
     "name": "stderr",
     "output_type": "stream",
     "text": [
      "100%|██████████| 850/850 [00:50<00:00, 16.77it/s]"
     ]
    },
    {
     "name": "stdout",
     "output_type": "stream",
     "text": [
      "169122112716571\n"
     ]
    },
    {
     "name": "stderr",
     "output_type": "stream",
     "text": [
      "\n"
     ]
    }
   ],
   "source": [
    "part2(input)"
   ]
  }
 ],
 "metadata": {
  "kernelspec": {
   "display_name": "py312",
   "language": "python",
   "name": "python3"
  },
  "language_info": {
   "codemirror_mode": {
    "name": "ipython",
    "version": 3
   },
   "file_extension": ".py",
   "mimetype": "text/x-python",
   "name": "python",
   "nbconvert_exporter": "python",
   "pygments_lexer": "ipython3",
   "version": "3.12.7"
  }
 },
 "nbformat": 4,
 "nbformat_minor": 2
}
