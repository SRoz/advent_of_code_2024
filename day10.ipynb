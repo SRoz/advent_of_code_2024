{
 "cells": [
  {
   "cell_type": "code",
   "execution_count": 1,
   "metadata": {},
   "outputs": [],
   "source": [
    "directions = [(0,1), (1,0), (0,-1), (-1,0)]\n",
    "\n",
    "def in_bounds(grid, location):\n",
    "    return all([\n",
    "        location[0] >= 0,\n",
    "        location[0] < len(grid),\n",
    "        location[1] >= 0,\n",
    "        location[1] < len(grid[0]),\n",
    "    ])\n",
    "\n",
    "def step(grid, location, dir: tuple[int,int] | None = None, path=None, first=False):\n",
    "\n",
    "    if first:\n",
    "        dir = (0,0)\n",
    "        path = [location]\n",
    "\n",
    "    new_location = (location[0] + dir[0], location[1] + dir[1])\n",
    "    \n",
    "    if not in_bounds(grid, new_location):\n",
    "        return None\n",
    "    \n",
    "    current_height = grid[location[0]][location[1]]\n",
    "    new_height = grid[new_location[0]][new_location[1]]\n",
    "\n",
    "    if (new_height != current_height + 1) and not first:\n",
    "        return None\n",
    "\n",
    "    if new_height == 9:\n",
    "        return new_location\n",
    "\n",
    "    next_steps = [step(grid, new_location, dir, path) for dir in directions]\n",
    "    return [step for step in next_steps if step is not None]\n",
    "   \n",
    "\n",
    "def unpack_output(output):\n",
    "    to_ret = list()\n",
    "    for item in output:\n",
    "        if isinstance(item, list):\n",
    "            to_ret.extend(unpack_output(item))\n",
    "        else:\n",
    "            to_ret.append(item)\n",
    "    return to_ret"
   ]
  },
  {
   "cell_type": "code",
   "execution_count": 2,
   "metadata": {},
   "outputs": [],
   "source": [
    "ex1=\"\"\"\\\n",
    "0123\n",
    "1234\n",
    "8765\n",
    "9876\"\"\"\n",
    "\n",
    "ex2 = \"\"\"\\\n",
    "89010123\n",
    "78121874\n",
    "87430965\n",
    "96549874\n",
    "45678903\n",
    "32019012\n",
    "01329801\n",
    "10456732\"\"\""
   ]
  },
  {
   "cell_type": "code",
   "execution_count": 3,
   "metadata": {},
   "outputs": [],
   "source": [
    "import numpy as np\n",
    "input = ex2"
   ]
  },
  {
   "cell_type": "code",
   "execution_count": 4,
   "metadata": {},
   "outputs": [
    {
     "name": "stdout",
     "output_type": "stream",
     "text": [
      "total_scores 611\n",
      "total_ratings 1380\n"
     ]
    }
   ],
   "source": [
    "input = open(\"inputs/10.txt\").read()\n",
    "\n",
    "grid = [list(map(int,list(line))) for line in input.splitlines()]\n",
    "starting_coords = [(int(x), int(y)) for x, y  in list(np.argwhere(np.array(grid) == 0))]\n",
    "\n",
    "total_scores = 0 \n",
    "total_ratings = 0\n",
    "for start in starting_coords:\n",
    "    ret = step(grid, start, (0,0), first=True)\n",
    "    out = unpack_output(ret)\n",
    "    score = len(set(out))\n",
    "    rating = len(out)\n",
    "    total_scores += score\n",
    "    total_ratings += rating\n",
    "    # break\n",
    "\n",
    "print(\"total_scores\", total_scores)\n",
    "print(\"total_ratings\", total_ratings)"
   ]
  }
 ],
 "metadata": {
  "kernelspec": {
   "display_name": "py312",
   "language": "python",
   "name": "python3"
  },
  "language_info": {
   "codemirror_mode": {
    "name": "ipython",
    "version": 3
   },
   "file_extension": ".py",
   "mimetype": "text/x-python",
   "name": "python",
   "nbconvert_exporter": "python",
   "pygments_lexer": "ipython3",
   "version": "3.12.7"
  }
 },
 "nbformat": 4,
 "nbformat_minor": 2
}
