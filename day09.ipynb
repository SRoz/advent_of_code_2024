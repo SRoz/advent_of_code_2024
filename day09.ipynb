{
 "cells": [
  {
   "cell_type": "markdown",
   "metadata": {},
   "source": [
    "# Part 1"
   ]
  },
  {
   "cell_type": "code",
   "execution_count": 1,
   "metadata": {},
   "outputs": [],
   "source": [
    "def expand(input):\n",
    "    output = list()\n",
    "    if len(input) % 2 == 1:\n",
    "        input += '0'\n",
    "    for id, (filesize, space) in enumerate(zip(input[::2], input[1::2])):\n",
    "        output += [str(id)] * int(filesize)\n",
    "        output += [\".\"] * int(space)\n",
    "    return output\n",
    "\n",
    "def checksum(input):\n",
    "    return sum([int(e) * idx for idx, e in enumerate(input)])\n",
    "\n",
    "def part1(input: str):\n",
    "    expanded = expand(input)\n",
    "    output_size = len([e for e in expanded if e != '.']) \n",
    "    reversed_idx = (output_size, len(expanded))\n",
    "    reversed = expanded[reversed_idx[0]:reversed_idx[1]][::-1]\n",
    "    reversed = [r for r in reversed if r != '.']\n",
    "\n",
    "    output = list()\n",
    "    for i in range(output_size):\n",
    "        if expanded[i] != '.':\n",
    "            output.append(expanded[i])\n",
    "        else:\n",
    "            output.append(reversed.pop(0))\n",
    "    print(checksum(output))"
   ]
  },
  {
   "cell_type": "code",
   "execution_count": 2,
   "metadata": {},
   "outputs": [
    {
     "name": "stdout",
     "output_type": "stream",
     "text": [
      "1928\n"
     ]
    }
   ],
   "source": [
    "part1(\"2333133121414131402\")"
   ]
  },
  {
   "cell_type": "code",
   "execution_count": 3,
   "metadata": {},
   "outputs": [
    {
     "name": "stdout",
     "output_type": "stream",
     "text": [
      "6332189866718\n"
     ]
    }
   ],
   "source": [
    "input = open(\"inputs/09.txt\").read()\n",
    "part1(input)"
   ]
  },
  {
   "cell_type": "markdown",
   "metadata": {},
   "source": [
    "# Part 2"
   ]
  },
  {
   "cell_type": "code",
   "execution_count": 4,
   "metadata": {},
   "outputs": [],
   "source": [
    "def expand2(input):\n",
    "    output = list()\n",
    "    if len(input) % 2 == 1:\n",
    "        input += '0'\n",
    "    for id, (filesize, space) in enumerate(zip(input[::2], input[1::2])):\n",
    "        output.append([id, int(filesize)])\n",
    "        output.append(['.', int(space)])\n",
    "    if output[-1][0] == '.':\n",
    "        output.pop()\n",
    "    return output"
   ]
  },
  {
   "cell_type": "code",
   "execution_count": 5,
   "metadata": {},
   "outputs": [],
   "source": [
    "def part2(input):\n",
    "    disk = expand2(input)\n",
    "    for i in range(disk[-1][0], 0, -1):\n",
    "        idx, element = [(index, item) for index, item in enumerate(disk) if item[0] == i][0]\n",
    "        for j in range(idx):\n",
    "            if disk[j][0] == '.':\n",
    "                if disk[j][1] >= element[1]:\n",
    "                    disk[j][1] -= element[1]\n",
    "                    disk.insert(j, disk.pop(idx)) \n",
    "                    disk.insert(idx, ('.', element[1]))           \n",
    "                    break\n",
    "\n",
    "    total = 0\n",
    "    i = 0\n",
    "    for d in disk:\n",
    "        if d[0] != '.':\n",
    "            for j in range(i, i + d[1]):\n",
    "                total += j*d[0]\n",
    "        i += d[1]\n",
    "    print(total)"
   ]
  },
  {
   "cell_type": "code",
   "execution_count": 6,
   "metadata": {},
   "outputs": [
    {
     "name": "stdout",
     "output_type": "stream",
     "text": [
      "2858\n"
     ]
    }
   ],
   "source": [
    "part2(\"2333133121414131402\")"
   ]
  },
  {
   "cell_type": "code",
   "execution_count": 7,
   "metadata": {},
   "outputs": [
    {
     "name": "stdout",
     "output_type": "stream",
     "text": [
      "6353648390778\n"
     ]
    }
   ],
   "source": [
    "part2(input)"
   ]
  }
 ],
 "metadata": {
  "kernelspec": {
   "display_name": "py312",
   "language": "python",
   "name": "python3"
  },
  "language_info": {
   "codemirror_mode": {
    "name": "ipython",
    "version": 3
   },
   "file_extension": ".py",
   "mimetype": "text/x-python",
   "name": "python",
   "nbconvert_exporter": "python",
   "pygments_lexer": "ipython3",
   "version": "3.12.7"
  }
 },
 "nbformat": 4,
 "nbformat_minor": 2
}
