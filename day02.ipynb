{
 "cells": [
  {
   "cell_type": "code",
   "execution_count": 1,
   "metadata": {},
   "outputs": [],
   "source": [
    "import numpy as np"
   ]
  },
  {
   "cell_type": "code",
   "execution_count": 2,
   "metadata": {},
   "outputs": [],
   "source": [
    "ex1 = \"\"\"\\\n",
    "7 6 4 2 1\n",
    "1 2 7 8 9\n",
    "9 7 6 2 1\n",
    "1 3 2 4 5\n",
    "8 6 4 4 1\n",
    "1 3 6 7 9\"\"\""
   ]
  },
  {
   "cell_type": "code",
   "execution_count": 3,
   "metadata": {},
   "outputs": [],
   "source": [
    "def part1(input: str):\n",
    "    datas = [list(map(int, line.split())) for line in input.splitlines()]\n",
    "\n",
    "    total = 0\n",
    "    for data in datas:\n",
    "        data = np.array(data)\n",
    "\n",
    "        diffs = np.diff(data)\n",
    "\n",
    "        cond1 = (diffs > 0).all() | (diffs < 0).all()\n",
    "        cond2 = ((np.abs(diffs) >= 1) & (np.abs(diffs) <= 3)).all()\n",
    "\n",
    "        if (cond1 & cond2):\n",
    "            total += 1\n",
    "    \n",
    "    print(total)"
   ]
  },
  {
   "cell_type": "code",
   "execution_count": 4,
   "metadata": {},
   "outputs": [],
   "source": [
    "input = open('inputs/02.txt').read()"
   ]
  },
  {
   "cell_type": "code",
   "execution_count": 5,
   "metadata": {},
   "outputs": [
    {
     "name": "stdout",
     "output_type": "stream",
     "text": [
      "356\n"
     ]
    }
   ],
   "source": [
    "part1(input)"
   ]
  },
  {
   "cell_type": "code",
   "execution_count": 6,
   "metadata": {},
   "outputs": [],
   "source": [
    "def part2(input: str):\n",
    "\n",
    "    datas = [list(map(int, line.split())) for line in input.splitlines()]\n",
    "\n",
    "    total = 0\n",
    "    for raw_data in datas:\n",
    "        for n in range(len(raw_data)):\n",
    "            data = raw_data[:n] + raw_data[n+1:]\n",
    "            data = np.array(data)\n",
    "            diffs = np.diff(data)\n",
    "\n",
    "            cond1 = (diffs > 0).all() | (diffs < 0).all()\n",
    "            cond2 = ((np.abs(diffs) >= 1) & (np.abs(diffs) <= 3)).all()\n",
    "\n",
    "            if (cond1 & cond2):\n",
    "                total += 1\n",
    "                break\n",
    "\n",
    "    print(total)"
   ]
  },
  {
   "cell_type": "code",
   "execution_count": 7,
   "metadata": {},
   "outputs": [
    {
     "name": "stdout",
     "output_type": "stream",
     "text": [
      "413\n"
     ]
    }
   ],
   "source": [
    "part2(input)"
   ]
  }
 ],
 "metadata": {
  "kernelspec": {
   "display_name": "py312",
   "language": "python",
   "name": "python3"
  },
  "language_info": {
   "codemirror_mode": {
    "name": "ipython",
    "version": 3
   },
   "file_extension": ".py",
   "mimetype": "text/x-python",
   "name": "python",
   "nbconvert_exporter": "python",
   "pygments_lexer": "ipython3",
   "version": "3.12.7"
  }
 },
 "nbformat": 4,
 "nbformat_minor": 2
}
