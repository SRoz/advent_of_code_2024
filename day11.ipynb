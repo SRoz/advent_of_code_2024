{
 "cells": [
  {
   "cell_type": "code",
   "execution_count": 1,
   "metadata": {},
   "outputs": [],
   "source": [
    "from collections import Counter\n",
    "\n",
    "def stoner(stone):\n",
    "    nchar = len(str(stone))\n",
    "    match (stone, nchar):\n",
    "        case 0, _:\n",
    "            return 1\n",
    "        case stone, nchar if nchar % 2 == 0:\n",
    "            return int(str(stone)[:int(nchar/2)]), int(str(stone)[int(nchar/2):])\n",
    "        case _:\n",
    "            return 2024 * stone\n",
    "\n",
    "def concat(a):\n",
    "    b = list()\n",
    "    for i in a:\n",
    "        if isinstance(i, tuple):\n",
    "            for j in i:\n",
    "                b.append(j)\n",
    "        else:\n",
    "            b.append(i)\n",
    "    return b\n",
    "\n",
    "def part_both(input, n_blinks):\n",
    "    if isinstance(input, str):\n",
    "        nums = list(map(int, input.split(\" \")))\n",
    "    else:\n",
    "        nums = input\n",
    "\n",
    "    counts = Counter(nums)\n",
    "\n",
    "    for _ in range(n_blinks):\n",
    "        new_count = Counter()\n",
    "        for number, count in counts.items():\n",
    "            new = stoner(number)\n",
    "            if isinstance(new, int):\n",
    "                new = new,\n",
    "            \n",
    "            for n in new:\n",
    "                new_count[n] += count\n",
    "        counts = new_count\n",
    "    print(sum(counts.values()))"
   ]
  },
  {
   "cell_type": "code",
   "execution_count": 2,
   "metadata": {},
   "outputs": [
    {
     "name": "stdout",
     "output_type": "stream",
     "text": [
      "200446\n",
      "238317474993392\n"
     ]
    }
   ],
   "source": [
    "input = list(map(int, open('inputs/11.txt').read().split(\" \")))\n",
    "part_both(input, 25)\n",
    "part_both(input, 75)"
   ]
  }
 ],
 "metadata": {
  "kernelspec": {
   "display_name": "py312",
   "language": "python",
   "name": "python3"
  },
  "language_info": {
   "codemirror_mode": {
    "name": "ipython",
    "version": 3
   },
   "file_extension": ".py",
   "mimetype": "text/x-python",
   "name": "python",
   "nbconvert_exporter": "python",
   "pygments_lexer": "ipython3",
   "version": "3.12.7"
  }
 },
 "nbformat": 4,
 "nbformat_minor": 2
}
