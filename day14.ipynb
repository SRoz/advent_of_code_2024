{
 "cells": [
  {
   "cell_type": "code",
   "execution_count": 1,
   "metadata": {},
   "outputs": [],
   "source": [
    "from collections import Counter\n",
    "from operator import mul\n",
    "from functools import reduce\n",
    "import re\n",
    "\n",
    "space_x, space_y = 101, 103\n",
    "\n",
    "def get_coords(input: str):\n",
    "    pattern = re.compile(r\"p=(\\d+),(\\d+) v=(-?\\d+),(-?\\d+)\")\n",
    "    return [tuple(map(int, pattern.match(line).groups())) for line in input.split(\"\\n\")]\n",
    "\n",
    "def move_one(x, y, dx, dy, secs):\n",
    "    x_ = (x + dx * secs) % space_x\n",
    "    y_ = (y + dy * secs) % space_y\n",
    "    return x_, y_ \n",
    "\n",
    "def move_all(coords, secs):\n",
    "    output = list()\n",
    "    for row in coords:\n",
    "        output.append(move_one(*row, secs))\n",
    "    return output\n",
    "\n",
    "def get_quadrants(output):\n",
    "    quadrants  = list()\n",
    "    for c in output:\n",
    "        if c[0] == (space_x - 1)/2 or c[1] == (space_y - 1)/2:\n",
    "            continue\n",
    "        quadrants.append(\n",
    "            (c[0] > (space_x // 2), c[1] > (space_y // 2))   \n",
    "        )\n",
    "    return quadrants\n",
    "\n",
    "def part1(input):\n",
    "    coords = get_coords(input)\n",
    "    output = move_all(coords, 100)\n",
    "    quadrants = get_quadrants(output)\n",
    "\n",
    "    print(reduce(mul, Counter(quadrants).values()))\n"
   ]
  },
  {
   "cell_type": "code",
   "execution_count": 2,
   "metadata": {},
   "outputs": [
    {
     "name": "stdout",
     "output_type": "stream",
     "text": [
      "225521010\n"
     ]
    }
   ],
   "source": [
    "input = open('inputs/14.txt').read()\n",
    "part1(input)\n"
   ]
  },
  {
   "cell_type": "code",
   "execution_count": 3,
   "metadata": {},
   "outputs": [],
   "source": [
    "import matplotlib.pyplot as plt\n",
    "\n",
    "def display(coords):\n",
    "    space = [[\".\" for _ in range(space_x)] for _ in range(space_y)]\n",
    "    for c in coords:\n",
    "        space[c[1]][c[0]] = \"#\"\n",
    "    \n",
    "    # Convert the space to a numerical array for imshow\n",
    "    space_numeric = [[1 if cell == \"#\" else 0 for cell in row] for row in space]\n",
    "    \n",
    "    plt.imshow(space_numeric, cmap='Greys', interpolation='none')\n",
    "    plt.show()"
   ]
  },
  {
   "cell_type": "code",
   "execution_count": 5,
   "metadata": {},
   "outputs": [
    {
     "data": {
      "image/png": "[encoded data removed]",
      "text/plain": [
       "<Figure size 640x480 with 1 Axes>"
      ]
     },
     "metadata": {},
     "output_type": "display_data"
    },
    {
     "ename": "KeyboardInterrupt",
     "evalue": "",
     "output_type": "error",
     "traceback": [
      "\u001b[0;31m---------------------------------------------------------------------------\u001b[0m",
      "\u001b[0;31mKeyboardInterrupt\u001b[0m                         Traceback (most recent call last)",
      "Cell \u001b[0;32mIn[5], line 8\u001b[0m\n\u001b[1;32m      6\u001b[0m \u001b[38;5;28;01mwhile\u001b[39;00m \u001b[38;5;28;01mTrue\u001b[39;00m:\n\u001b[1;32m      7\u001b[0m     display(move_all(coords,\u001b[38;5;241m401\u001b[39m \u001b[38;5;241m+\u001b[39m \u001b[38;5;241m101\u001b[39m\u001b[38;5;241m*\u001b[39mn))\n\u001b[0;32m----> 8\u001b[0m     \u001b[43mtime\u001b[49m\u001b[38;5;241;43m.\u001b[39;49m\u001b[43msleep\u001b[49m\u001b[43m(\u001b[49m\u001b[38;5;241;43m2\u001b[39;49m\u001b[43m)\u001b[49m\n\u001b[1;32m      9\u001b[0m     n\u001b[38;5;241m+\u001b[39m\u001b[38;5;241m=\u001b[39m\u001b[38;5;241m1\u001b[39m\n\u001b[1;32m     10\u001b[0m     clear_output()\n",
      "\u001b[0;31mKeyboardInterrupt\u001b[0m: "
     ]
    }
   ],
   "source": [
    "import time\n",
    "from IPython.display import clear_output\n",
    "\n",
    "coords = get_coords(input)\n",
    "n=72\n",
    "while True:\n",
    "    display(move_all(coords,401 + 101*n))\n",
    "    time.sleep(2)\n",
    "    n+=1\n",
    "    clear_output()"
   ]
  },
  {
   "cell_type": "code",
   "execution_count": null,
   "metadata": {},
   "outputs": [
    {
     "data": {
      "image/png": "[encoded data removed]",
      "text/plain": [
       "<Figure size 640x480 with 1 Axes>"
      ]
     },
     "metadata": {},
     "output_type": "display_data"
    },
    {
     "data": {
      "text/plain": [
       "7774"
      ]
     },
     "execution_count": 5,
     "metadata": {},
     "output_type": "execute_result"
    }
   ],
   "source": [
    "display(move_all(coords,401 + 101*73))\n",
    "401 + 101*73"
   ]
  }
 ],
 "metadata": {
  "kernelspec": {
   "display_name": "py312",
   "language": "python",
   "name": "python3"
  },
  "language_info": {
   "codemirror_mode": {
    "name": "ipython",
    "version": 3
   },
   "file_extension": ".py",
   "mimetype": "text/x-python",
   "name": "python",
   "nbconvert_exporter": "python",
   "pygments_lexer": "ipython3",
   "version": "3.12.7"
  }
 },
 "nbformat": 4,
 "nbformat_minor": 2
}
