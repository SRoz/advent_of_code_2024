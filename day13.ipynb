{
 "cells": [
  {
   "cell_type": "code",
   "execution_count": 1,
   "metadata": {},
   "outputs": [],
   "source": [
    "import re\n",
    "from sympy import symbols, Eq, solve\n",
    "\n",
    "def parse_input(input: str):\n",
    "    pattern = r\"Button A: X\\+(\\d+), Y\\+(\\d+)\\nButton B: X\\+(\\d+), Y\\+(\\d+)\\nPrize: X=(\\d+), Y=(\\d+)\"\n",
    "    matches = re.findall(pattern, input)\n",
    "    return [\n",
    "        {\n",
    "            \"A_X\": int(m[0]),\n",
    "            \"A_Y\": int(m[1]),\n",
    "            \"B_X\": int(m[2]),\n",
    "            \"B_Y\": int(m[3]),\n",
    "            \"P_X\": int(m[4]),\n",
    "            \"P_Y\": int(m[5]),\n",
    "        }\n",
    "        for m in matches\n",
    "    ]\n",
    "\n",
    "def part_both(machines, part: int):\n",
    "    if part == 1:\n",
    "        add = 0 \n",
    "    else:\n",
    "        add = 10000000000000\n",
    "\n",
    "    cost  = 0\n",
    "    for machine in machines:\n",
    "        a, b = symbols('a b')\n",
    "        eq1 = Eq(machine['A_X'] * a + machine['B_X'] * b, machine['P_X'] + add)\n",
    "        eq2 = Eq(machine['A_Y'] * a + machine['B_Y'] * b, machine['P_Y'] + add)\n",
    "        solution = solve((eq1, eq2), (a, b))\n",
    "\n",
    "        if solution[a].is_integer and solution[b].is_integer:\n",
    "            cost += 3 * solution[a] + solution[b]\n",
    "\n",
    "    print(cost)"
   ]
  },
  {
   "cell_type": "code",
   "execution_count": 2,
   "metadata": {},
   "outputs": [
    {
     "name": "stdout",
     "output_type": "stream",
     "text": [
      "32026\n",
      "89013607072065\n"
     ]
    }
   ],
   "source": [
    "machines = parse_input(open('inputs/13.txt').read())\n",
    "part_both(machines, part=1)\n",
    "part_both(machines, part=2)"
   ]
  }
 ],
 "metadata": {
  "kernelspec": {
   "display_name": "py312",
   "language": "python",
   "name": "python3"
  },
  "language_info": {
   "codemirror_mode": {
    "name": "ipython",
    "version": 3
   },
   "file_extension": ".py",
   "mimetype": "text/x-python",
   "name": "python",
   "nbconvert_exporter": "python",
   "pygments_lexer": "ipython3",
   "version": "3.12.7"
  }
 },
 "nbformat": 4,
 "nbformat_minor": 2
}
