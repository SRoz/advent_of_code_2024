{
 "cells": [
  {
   "cell_type": "code",
   "execution_count": 1,
   "metadata": {},
   "outputs": [],
   "source": [
    "import numpy as np\n",
    "import networkx as nx\n",
    "\n",
    "data = np.genfromtxt(\"inputs/12.txt\", delimiter=1, dtype=str)"
   ]
  },
  {
   "cell_type": "code",
   "execution_count": 5,
   "metadata": {},
   "outputs": [
    {
     "name": "stdout",
     "output_type": "stream",
     "text": [
      "1363682 78400\n"
     ]
    }
   ],
   "source": [
    "G = nx.grid_2d_graph(*data.shape)\n",
    "for e in G.edges:\n",
    "    if data[e[0]] != data[e[1]]:\n",
    "        G.remove_edge(*e)    \n",
    "\n",
    "dirs = ((0, 1), (-1, 0), (0, -1), (1, 0))\n",
    "def dir_iter(x):\n",
    "    return {dirs[i]: dirs[(i + 1) % len(dirs)] for i in range(len(dirs))}[x]\n",
    "\n",
    "total_part1 = 0 \n",
    "total_part2 = 0\n",
    "for c in nx.connected_components(G):\n",
    "    H = G.subgraph(c)\n",
    "    total_part1 += sum(4-G.degree(n) for n in H) * H.order()\n",
    "    total_part2 += H.order() * sum((((n[0]+dir_iter(dir)[0], n[1]+dir_iter(dir)[1]), dir) not in wall for (n, dir) in wall))\n",
    "print(total_part1, total_part2)"
   ]
  }
 ],
 "metadata": {
  "kernelspec": {
   "display_name": "py312",
   "language": "python",
   "name": "python3"
  },
  "language_info": {
   "codemirror_mode": {
    "name": "ipython",
    "version": 3
   },
   "file_extension": ".py",
   "mimetype": "text/x-python",
   "name": "python",
   "nbconvert_exporter": "python",
   "pygments_lexer": "ipython3",
   "version": "3.12.7"
  }
 },
 "nbformat": 4,
 "nbformat_minor": 2
}
