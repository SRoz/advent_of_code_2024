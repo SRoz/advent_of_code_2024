{
 "cells": [
  {
   "cell_type": "code",
   "execution_count": 1,
   "metadata": {},
   "outputs": [],
   "source": [
    "import re"
   ]
  },
  {
   "cell_type": "code",
   "execution_count": 2,
   "metadata": {},
   "outputs": [],
   "source": [
    "ex1 = \"xmul(2,4)%&mul[3,7]!@^do_not_mul(5,5)+mul(32,64]then(mul(11,8)mul(8,5))\"\n"
   ]
  },
  {
   "cell_type": "code",
   "execution_count": 3,
   "metadata": {},
   "outputs": [],
   "source": [
    "def part1(input:str):\n",
    "    matches = re.findall(r\"mul\\((\\d+),(\\d+)\\)\", input)\n",
    "    total = 0\n",
    "    for m in matches:\n",
    "        total += int(m[0]) * int(m[1])\n",
    "    print(total)"
   ]
  },
  {
   "cell_type": "code",
   "execution_count": 4,
   "metadata": {},
   "outputs": [
    {
     "name": "stdout",
     "output_type": "stream",
     "text": [
      "161\n"
     ]
    }
   ],
   "source": [
    "part1(ex1)"
   ]
  },
  {
   "cell_type": "code",
   "execution_count": 5,
   "metadata": {},
   "outputs": [
    {
     "name": "stdout",
     "output_type": "stream",
     "text": [
      "190604937\n"
     ]
    }
   ],
   "source": [
    "input = open('inputs/03.txt').read()\n",
    "part1(input)"
   ]
  },
  {
   "cell_type": "code",
   "execution_count": 6,
   "metadata": {},
   "outputs": [],
   "source": [
    "def part2(input:str):\n",
    "    matches = re.finditer(r\"mul\\((\\d+),(\\d+)\\)\", input)\n",
    "    dos = re.finditer(r\"do\\(\\)\", input)\n",
    "    donts = re.finditer(r\"don't\\(\\)\", input)\n",
    "\n",
    "    matches = [m for m in matches]\n",
    "    dos: list[int] = [d.span()[0] for d in dos]\n",
    "    donts: list[int] = [d.span()[0] for d in donts]\n",
    "\n",
    "    on_off = list()\n",
    "\n",
    "    for i in range(1 + len(input)):\n",
    "        if i in dos:\n",
    "            on_off.append(True)\n",
    "        elif i in donts:\n",
    "            on_off.append(False)\n",
    "        elif i > 0:\n",
    "            on_off.append(on_off[-1])\n",
    "        else:\n",
    "            on_off.append(True)\n",
    "\n",
    "    total = 0 \n",
    "    for m in matches:\n",
    "        n = m.groups()\n",
    "        num = int(n[0]) * int(n[1]) \n",
    "\n",
    "        if on_off[m.span()[0]]:\n",
    "            total += num\n",
    "\n",
    "    print(total)"
   ]
  },
  {
   "cell_type": "code",
   "execution_count": 7,
   "metadata": {},
   "outputs": [
    {
     "name": "stdout",
     "output_type": "stream",
     "text": [
      "48\n"
     ]
    }
   ],
   "source": [
    "ex2 = \"xmul(2,4)&mul[3,7]!^don't()_mul(5,5)+mul(32,64](mul(11,8)undo()?mul(8,5))\"\n",
    "part2(ex2)"
   ]
  },
  {
   "cell_type": "code",
   "execution_count": 8,
   "metadata": {},
   "outputs": [
    {
     "name": "stdout",
     "output_type": "stream",
     "text": [
      "82857512\n"
     ]
    }
   ],
   "source": [
    "part2(input)"
   ]
  }
 ],
 "metadata": {
  "kernelspec": {
   "display_name": "py312",
   "language": "python",
   "name": "python3"
  },
  "language_info": {
   "codemirror_mode": {
    "name": "ipython",
    "version": 3
   },
   "file_extension": ".py",
   "mimetype": "text/x-python",
   "name": "python",
   "nbconvert_exporter": "python",
   "pygments_lexer": "ipython3",
   "version": "3.12.7"
  }
 },
 "nbformat": 4,
 "nbformat_minor": 2
}
