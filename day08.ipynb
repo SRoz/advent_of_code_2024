{
 "cells": [
  {
   "cell_type": "code",
   "execution_count": 1,
   "metadata": {},
   "outputs": [],
   "source": [
    "ex1=\"\"\"\\\n",
    "............\n",
    "........0...\n",
    ".....0......\n",
    ".......0....\n",
    "....0.......\n",
    "......A.....\n",
    "............\n",
    "............\n",
    "........A...\n",
    ".........A..\n",
    "............\n",
    "............\"\"\"\n"
   ]
  },
  {
   "cell_type": "code",
   "execution_count": 115,
   "metadata": {},
   "outputs": [
    {
     "name": "stdout",
     "output_type": "stream",
     "text": [
      "[['.' '.' '.' '.' '.' '.' '.' '.' '.' '.' '.' '.']\n",
      " ['.' '.' '.' '.' '.' '.' '.' '.' '0' '.' '.' '.']\n",
      " ['.' '.' '.' '.' '.' '0' '.' '.' '.' '.' '.' '.']\n",
      " ['.' '.' '.' '.' '.' '.' '.' '0' '.' '.' '.' '.']\n",
      " ['.' '.' '.' '.' '0' '.' '.' '.' '.' '.' '.' '.']\n",
      " ['.' '.' '.' '.' '.' '.' 'A' '.' '.' '.' '.' '.']\n",
      " ['.' '.' '.' '.' '.' '.' '.' '.' '.' '.' '.' '.']\n",
      " ['.' '.' '.' '.' '.' '.' '.' '.' '.' '.' '.' '.']\n",
      " ['.' '.' '.' '.' '.' '.' '.' '.' 'A' '.' '.' '.']\n",
      " ['.' '.' '.' '.' '.' '.' '.' '.' '.' 'A' '.' '.']\n",
      " ['.' '.' '.' '.' '.' '.' '.' '.' '.' '.' '.' '.']\n",
      " ['.' '.' '.' '.' '.' '.' '.' '.' '.' '.' '.' '.']]\n"
     ]
    }
   ],
   "source": [
    "import numpy as np\n",
    "\n",
    "input = ex1\n",
    "grid = np.array([list(line) for line in ex1.split('\\n')])\n",
    "print(grid)"
   ]
  },
  {
   "cell_type": "code",
   "execution_count": 3,
   "metadata": {},
   "outputs": [],
   "source": [
    "from itertools import permutations"
   ]
  },
  {
   "cell_type": "code",
   "execution_count": null,
   "metadata": {},
   "outputs": [],
   "source": []
  },
  {
   "cell_type": "code",
   "execution_count": null,
   "metadata": {},
   "outputs": [
    {
     "name": "stdout",
     "output_type": "stream",
     "text": [
      "354\n",
      "1263\n"
     ]
    }
   ],
   "source": [
    "def in_grid(grid, candidates):\n",
    "    include = np.all(\n",
    "            [\n",
    "                0 <= candidates[:, 0],\n",
    "                0 <= candidates[:, 1],\n",
    "                (candidates[:, 0] < grid.shape[0]),\n",
    "                (candidates[:, 1] < grid.shape[1]),\n",
    "            ],\n",
    "            axis=0,\n",
    "        )\n",
    "    return candidates[include]\n",
    "        \n",
    "def part_both(input: str, part):\n",
    "    grid = np.array([list(line) for line in input.split('\\n')])\n",
    "    all_antinode_locations = []\n",
    "\n",
    "    for frequency in np.unique(grid):\n",
    "        if frequency == '.':\n",
    "            continue\n",
    "\n",
    "        antennas = np.argwhere(grid == frequency)\n",
    "        pairs_idx = list(permutations(range(len(antennas)), 2))\n",
    "        antenna_pairs = antennas[pairs_idx]\n",
    "\n",
    "        n=-1\n",
    "        while True:\n",
    "            antinode_locations = (antenna_pairs[:,0,:] - antenna_pairs[:,1,:])*n + antenna_pairs[:,1,:]\n",
    "            antinode_locations = np.unique(antinode_locations,axis=0)\n",
    "            antinode_locations = in_grid(grid, antinode_locations)\n",
    "            all_antinode_locations.append(antinode_locations)\n",
    "        \n",
    "            if antinode_locations.shape[0] == 0 or part==1:\n",
    "                break\n",
    "            else:\n",
    "                n += 1\n",
    "        \n",
    "            \n",
    "\n",
    "    print(np.unique(np.concat(all_antinode_locations),axis=0).shape[0])\n",
    "\n",
    "input = open('inputs/08.txt').read()\n",
    "part_both(input, part=1)\n",
    "part_both(input, part=2)"
   ]
  },
  {
   "cell_type": "code",
   "execution_count": null,
   "metadata": {},
   "outputs": [],
   "source": []
  }
 ],
 "metadata": {
  "kernelspec": {
   "display_name": "py312",
   "language": "python",
   "name": "python3"
  },
  "language_info": {
   "codemirror_mode": {
    "name": "ipython",
    "version": 3
   },
   "file_extension": ".py",
   "mimetype": "text/x-python",
   "name": "python",
   "nbconvert_exporter": "python",
   "pygments_lexer": "ipython3",
   "version": "3.12.7"
  }
 },
 "nbformat": 4,
 "nbformat_minor": 2
}
