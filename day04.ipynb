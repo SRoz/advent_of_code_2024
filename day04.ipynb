{
 "cells": [
  {
   "cell_type": "code",
   "execution_count": 1,
   "metadata": {},
   "outputs": [],
   "source": [
    "ex1 = \"\"\"\\\n",
    "MMMSXXMASM\n",
    "MSAMXMSMSA\n",
    "AMXSXMAAMM\n",
    "MSAMASMSMX\n",
    "XMASAMXAMM\n",
    "XXAMMXXAMA\n",
    "SMSMSASXSS\n",
    "SAXAMASAAA\n",
    "MAMMMXMMMM\n",
    "MXMXAXMASX\"\"\""
   ]
  },
  {
   "cell_type": "code",
   "execution_count": 2,
   "metadata": {},
   "outputs": [],
   "source": [
    "import numpy as np \n",
    "\n",
    "def check(arr):\n",
    "    total = 0\n",
    "\n",
    "    for row in arr:\n",
    "        total += ''.join(row).count('XMAS')\n",
    "\n",
    "    for k in range(-arr.shape[0], arr.shape[1]):\n",
    "        diag = np.diag(arr, k=k)\n",
    "        total += ''.join(diag).count('XMAS')    \n",
    "\n",
    "    return total\n",
    "\n",
    "\n",
    "def part1(input: str):\n",
    "\n",
    "    arr = np.array([[letter for letter in line] for line in input.split('\\n')])\n",
    "    \n",
    "    total =0 \n",
    "    for _ in range(4):\n",
    "        total += check(arr)\n",
    "        arr = np.rot90(arr)\n",
    "\n",
    "    print(total)"
   ]
  },
  {
   "cell_type": "code",
   "execution_count": 3,
   "metadata": {},
   "outputs": [
    {
     "name": "stdout",
     "output_type": "stream",
     "text": [
      "18\n"
     ]
    }
   ],
   "source": [
    "part1(ex1)"
   ]
  },
  {
   "cell_type": "code",
   "execution_count": 4,
   "metadata": {},
   "outputs": [
    {
     "name": "stdout",
     "output_type": "stream",
     "text": [
      "2514\n"
     ]
    }
   ],
   "source": [
    "input = open('inputs/04.txt').read()\n",
    "part1(input)"
   ]
  },
  {
   "cell_type": "code",
   "execution_count": 5,
   "metadata": {},
   "outputs": [],
   "source": [
    "from string import ascii_uppercase\n",
    "from scipy.signal import convolve2d\n",
    "\n",
    "letter_map = {letter: i+1 for i, letter in enumerate(ascii_uppercase)}\n",
    "\n",
    "def part2(input: str):\n",
    "    arr = np.array([[letter_map[c] for c in line] for line in input.split('\\n')])\n",
    "\n",
    "    filter = np.array(\n",
    "        [\n",
    "            [1 / letter_map[\"M\"], 0, 1 / letter_map[\"S\"]],\n",
    "            [0, 1 / letter_map[\"A\"], 0],\n",
    "            [1 / letter_map[\"M\"], 0, 1 / letter_map[\"S\"]],\n",
    "        ]\n",
    "    )\n",
    "\n",
    "    total = 0\n",
    "    for i in range(4):\n",
    "        _filter = np.rot90(filter, i) \n",
    "        conv = convolve2d(arr, _filter)\n",
    "        total += np.sum(conv == 5)\n",
    "    print(total)"
   ]
  },
  {
   "cell_type": "code",
   "execution_count": 6,
   "metadata": {},
   "outputs": [
    {
     "name": "stdout",
     "output_type": "stream",
     "text": [
      "9\n"
     ]
    }
   ],
   "source": [
    "part2(ex1)"
   ]
  },
  {
   "cell_type": "code",
   "execution_count": 7,
   "metadata": {},
   "outputs": [
    {
     "name": "stdout",
     "output_type": "stream",
     "text": [
      "1888\n"
     ]
    }
   ],
   "source": [
    "part2(input)"
   ]
  },
  {
   "cell_type": "code",
   "execution_count": 8,
   "metadata": {},
   "outputs": [
    {
     "name": "stdout",
     "output_type": "stream",
     "text": [
      "1888\n"
     ]
    }
   ],
   "source": [
    "arr = np.array([[letter_map[c] for c in line] for line in input.split('\\n')])\n",
    "\n",
    "filter = np.array(\n",
    "    [\n",
    "        [1 / letter_map[\"M\"], 0, 1 / letter_map[\"S\"]],\n",
    "        [0, 1 / letter_map[\"A\"], 0],\n",
    "        [1 / letter_map[\"M\"], 0, 1 / letter_map[\"S\"]],\n",
    "    ]\n",
    ")\n",
    "\n",
    "total = 0\n",
    "for i in range(4):\n",
    "    _filter = np.rot90(filter, i) \n",
    "    conv = convolve2d(arr, _filter)\n",
    "    total += np.sum(conv == 5)\n",
    "print(total)"
   ]
  }
 ],
 "metadata": {
  "kernelspec": {
   "display_name": "py312",
   "language": "python",
   "name": "python3"
  },
  "language_info": {
   "codemirror_mode": {
    "name": "ipython",
    "version": 3
   },
   "file_extension": ".py",
   "mimetype": "text/x-python",
   "name": "python",
   "nbconvert_exporter": "python",
   "pygments_lexer": "ipython3",
   "version": "3.12.7"
  }
 },
 "nbformat": 4,
 "nbformat_minor": 2
}
