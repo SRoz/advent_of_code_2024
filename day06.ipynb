{
 "cells": [
  {
   "cell_type": "code",
   "execution_count": 1,
   "metadata": {},
   "outputs": [],
   "source": [
    "ex1 = \"\"\"\\\n",
    "....#.....\n",
    ".........#\n",
    "..........\n",
    "..#.......\n",
    ".......#..\n",
    "..........\n",
    ".#..^.....\n",
    "........#.\n",
    "#.........\n",
    "......#...\"\"\""
   ]
  },
  {
   "cell_type": "code",
   "execution_count": 2,
   "metadata": {},
   "outputs": [],
   "source": [
    "import numpy as np\n",
    "from itertools import cycle"
   ]
  },
  {
   "cell_type": "code",
   "execution_count": 3,
   "metadata": {},
   "outputs": [],
   "source": [
    "def in_grid(grid, coord):\n",
    "    return 0 <= coord[0] < grid.shape[0] and 0 <= coord[1] < grid.shape[1]"
   ]
  },
  {
   "cell_type": "code",
   "execution_count": 22,
   "metadata": {},
   "outputs": [
    {
     "name": "stdout",
     "output_type": "stream",
     "text": [
      "4973\n"
     ]
    }
   ],
   "source": [
    "input = ex1\n",
    "input = open('inputs/06.txt').read()\n",
    "\n",
    "grid = np.array([[p for p in line] for line in input.splitlines()])\n",
    "\n",
    "pointers = ['^', '>', 'v', '<']\n",
    "pointer_cycle = cycle(pointers)\n",
    "dirs = {'^': (-1, 0), 'v': (1, 0), '<': (0, -1), '>': (0, 1)}\n",
    "dirs = {k: np.array(v) for k, v in dirs.items()}\n",
    "\n",
    "def solve(grid):\n",
    "    grid = grid.copy()\n",
    "    pointer_coord= np.argwhere(np.isin(np.array(grid), pointers))[0]\n",
    "    pointer = grid[pointer_coord[0], pointer_coord[1]]\n",
    "\n",
    "    grid[pointer_coord[0], pointer_coord[1]] = '.'\n",
    "\n",
    "    while next(pointer_cycle) != pointer:\n",
    "        pass\n",
    "    visited = [((pointer_coord[0],pointer_coord[1]), str(pointer))]\n",
    "    \n",
    "    cycle = False\n",
    "    while True:\n",
    "        next_coord = pointer_coord + dirs[str(pointer)]\n",
    "\n",
    "        if not in_grid(grid, next_coord):\n",
    "            break\n",
    "\n",
    "        elif grid[next_coord[0], next_coord[1]] == '#':\n",
    "            pointer = next(pointer_cycle)\n",
    "\n",
    "        elif grid[next_coord[0], next_coord[1]] == '.':\n",
    "            pointer_coord = next_coord\n",
    "            if (visit_append:=((pointer_coord[0],pointer_coord[1]), str(pointer))) in visited:\n",
    "                cycle = True\n",
    "                break\n",
    "            else:\n",
    "                visited.append(visit_append)\n",
    "        else:\n",
    "            print(grid[next_coord[0], next_coord[1]])\n",
    "            raise\n",
    "    \n",
    "    path = np.array([v[0] for v in visited])\n",
    "    return np.unique(path,axis=0), cycle\n",
    "\n",
    "path, _ = solve(grid)\n",
    "print(path.shape[0])"
   ]
  },
  {
   "cell_type": "code",
   "execution_count": 23,
   "metadata": {},
   "outputs": [
    {
     "name": "stderr",
     "output_type": "stream",
     "text": [
      "100%|██████████| 4973/4973 [10:32<00:00,  7.87it/s]"
     ]
    },
    {
     "name": "stdout",
     "output_type": "stream",
     "text": [
      "1482\n"
     ]
    },
    {
     "name": "stderr",
     "output_type": "stream",
     "text": [
      "\n"
     ]
    }
   ],
   "source": [
    "from tqdm import tqdm\n",
    "\n",
    "pointer_coord= np.argwhere(np.isin(np.array(grid), pointers))[0]\n",
    "n_cycles = 0\n",
    "for coord in tqdm(path):\n",
    "    if np.equal(coord, pointer_coord).all():\n",
    "        continue\n",
    "    \n",
    "    sub_grid = grid.copy()\n",
    "    sub_grid[coord[0], coord[1]] = '#'\n",
    "\n",
    "    _, has_cycle = solve(sub_grid)\n",
    "    if has_cycle:\n",
    "        n_cycles += 1\n",
    "\n",
    "print(n_cycles)"
   ]
  }
 ],
 "metadata": {
  "kernelspec": {
   "display_name": "py312",
   "language": "python",
   "name": "python3"
  },
  "language_info": {
   "codemirror_mode": {
    "name": "ipython",
    "version": 3
   },
   "file_extension": ".py",
   "mimetype": "text/x-python",
   "name": "python",
   "nbconvert_exporter": "python",
   "pygments_lexer": "ipython3",
   "version": "3.12.7"
  }
 },
 "nbformat": 4,
 "nbformat_minor": 2
}
